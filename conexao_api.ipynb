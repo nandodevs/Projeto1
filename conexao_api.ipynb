{
 "cells": [
  {
   "attachments": {},
   "cell_type": "markdown",
   "metadata": {},
   "source": [
    "### Sistema de Conexão com API"
   ]
  },
  {
   "cell_type": "code",
   "execution_count": 27,
   "metadata": {},
   "outputs": [
    {
     "data": {
      "text/plain": [
       "{'Valor_Aluguel': '[1816.42494984]'}"
      ]
     },
     "execution_count": 27,
     "metadata": {},
     "output_type": "execute_result"
    }
   ],
   "source": [
    "# Conexão\n",
    "import requests\n",
    "\n",
    "# Iniciar a URL\n",
    "url = f'http://127.0.0.1:5000/api_preditivo/50;3;2;1;0;1;0;0;250'\n",
    "\n",
    "# Acessar a conexão\n",
    "consulta = requests.get(url)\n",
    "\n",
    "# Buscar a info\n",
    "resposta = consulta.json()\n",
    "\n",
    "#Devolução\n",
    "resposta"
   ]
  }
 ],
 "metadata": {
  "kernelspec": {
   "display_name": "venv",
   "language": "python",
   "name": "python3"
  },
  "language_info": {
   "codemirror_mode": {
    "name": "ipython",
    "version": 3
   },
   "file_extension": ".py",
   "mimetype": "text/x-python",
   "name": "python",
   "nbconvert_exporter": "python",
   "pygments_lexer": "ipython3",
   "version": "3.11.0"
  },
  "orig_nbformat": 4
 },
 "nbformat": 4,
 "nbformat_minor": 2
}
