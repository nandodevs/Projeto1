{
 "cells": [
  {
   "cell_type": "code",
   "execution_count": 1,
   "metadata": {},
   "outputs": [],
   "source": [
    "# Lib para banco de dados\n",
    "import sqlite3"
   ]
  },
  {
   "cell_type": "code",
   "execution_count": 2,
   "metadata": {},
   "outputs": [],
   "source": [
    "# Criar banco (Caso exista cria o banco - Se não só conecta)\n",
    "conexao_banco = sqlite3.connect('banco_api.db')"
   ]
  },
  {
   "cell_type": "code",
   "execution_count": 3,
   "metadata": {},
   "outputs": [],
   "source": [
    "# Apontar para o banco\n",
    "Cursor = conexao_banco.cursor()"
   ]
  },
  {
   "cell_type": "code",
   "execution_count": 5,
   "metadata": {},
   "outputs": [
    {
     "data": {
      "text/plain": [
       "<sqlite3.Cursor at 0x22b89b9d8c0>"
      ]
     },
     "execution_count": 5,
     "metadata": {},
     "output_type": "execute_result"
    }
   ],
   "source": [
    "# Query - Criar Tabela\n",
    "\n",
    "Query_Criar_Banco = '''\n",
    "\n",
    "CREATE TABLE Log_API (\n",
    "    id INTEGER NOT NULL PRIMARY KEY AUTOINCREMENT,\n",
    "    Inputs TEXT,\n",
    "    Inicio TEXT,\n",
    "    Fim TEXT,\n",
    "    Processamento TEXT\n",
    ")\n",
    "'''\n",
    "\n",
    "Cursor.execute(Query_Criar_Banco)"
   ]
  },
  {
   "cell_type": "code",
   "execution_count": 9,
   "metadata": {},
   "outputs": [],
   "source": [
    "# Query de Inserção\n",
    "Query_Inserir = '''\n",
    "INSERT INTO Log_API (Inputs, Inicio, Fim, Processamento) VALUES ('25;1;1;0;0;0;0;0;84', '21/03/2023 23:00:10', '21/03/2023 23:00:20', '00:10')\n",
    "'''\n",
    "\n",
    "Cursor.execute(Query_Inserir)\n",
    "\n",
    "conexao_banco.commit()"
   ]
  },
  {
   "cell_type": "code",
   "execution_count": 10,
   "metadata": {},
   "outputs": [
    {
     "data": {
      "text/plain": [
       "[(1,\n",
       "  '25;1;1;0;0;0;0;0;84',\n",
       "  '21/03/2023 23:00:00',\n",
       "  '21/03/2023 23:00:05',\n",
       "  '00:05'),\n",
       " (2,\n",
       "  '25;1;1;0;0;0;0;0;84',\n",
       "  '21/03/2023 23:00:10',\n",
       "  '21/03/2023 23:00:20',\n",
       "  '00:10')]"
      ]
     },
     "execution_count": 10,
     "metadata": {},
     "output_type": "execute_result"
    }
   ],
   "source": [
    "# Query de Consulta\n",
    "Query_Consulta = '''\n",
    "SELECT * FROM Log_API\n",
    "'''\n",
    "\n",
    "Cursor.execute(Query_Consulta).fetchall()"
   ]
  },
  {
   "cell_type": "code",
   "execution_count": null,
   "metadata": {},
   "outputs": [],
   "source": []
  },
  {
   "cell_type": "code",
   "execution_count": null,
   "metadata": {},
   "outputs": [],
   "source": []
  }
 ],
 "metadata": {
  "kernelspec": {
   "display_name": "venv",
   "language": "python",
   "name": "python3"
  },
  "language_info": {
   "codemirror_mode": {
    "name": "ipython",
    "version": 3
   },
   "file_extension": ".py",
   "mimetype": "text/x-python",
   "name": "python",
   "nbconvert_exporter": "python",
   "pygments_lexer": "ipython3",
   "version": "3.11.0"
  },
  "orig_nbformat": 4
 },
 "nbformat": 4,
 "nbformat_minor": 2
}
